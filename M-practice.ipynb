{
  "nbformat": 4,
  "nbformat_minor": 0,
  "metadata": {
    "colab": {
      "provenance": [],
      "authorship_tag": "ABX9TyPOLLVd9G8vExPtQOJUPQNO",
      "include_colab_link": true
    },
    "kernelspec": {
      "name": "python3",
      "display_name": "Python 3"
    },
    "language_info": {
      "name": "python"
    }
  },
  "cells": [
    {
      "cell_type": "markdown",
      "metadata": {
        "id": "view-in-github",
        "colab_type": "text"
      },
      "source": [
        "<a href=\"https://colab.research.google.com/github/ShieldEdu/ShieldEdu/blob/main/M-practice.ipynb\" target=\"_parent\"><img src=\"https://colab.research.google.com/assets/colab-badge.svg\" alt=\"Open In Colab\"/></a>"
      ]
    },
    {
      "cell_type": "code",
      "execution_count": 4,
      "metadata": {
        "id": "8T2BFc0iosU2",
        "colab": {
          "base_uri": "https://localhost:8080/"
        },
        "outputId": "73afbcd3-f7fc-4601-b6d1-b72721eaa0b9"
      },
      "outputs": [
        {
          "output_type": "stream",
          "name": "stdout",
          "text": [
            "3\n",
            "3333\n"
          ]
        }
      ],
      "source": [
        "#Lesson4 types of data\n",
        "number=input()\n",
        "x=4\n",
        "print(x*number)"
      ]
    },
    {
      "cell_type": "code",
      "source": [
        "x=\"Hello, everyone welcome!\"\n",
        "print(x*3)"
      ],
      "metadata": {
        "colab": {
          "base_uri": "https://localhost:8080/"
        },
        "id": "Spr7z5fKRyZC",
        "outputId": "3942ac27-fad0-41f6-c06f-85a46c97c45a"
      },
      "execution_count": 5,
      "outputs": [
        {
          "output_type": "stream",
          "name": "stdout",
          "text": [
            "Hello, everyone welcome!Hello, everyone welcome!Hello, everyone welcome!\n"
          ]
        }
      ]
    },
    {
      "cell_type": "code",
      "source": [
        "age=input()\n",
        "print(age*2)"
      ],
      "metadata": {
        "colab": {
          "base_uri": "https://localhost:8080/"
        },
        "id": "MC3f7ri2SfpX",
        "outputId": "87be8146-a841-4b14-e9ff-b69c93da319b"
      },
      "execution_count": 6,
      "outputs": [
        {
          "output_type": "stream",
          "name": "stdout",
          "text": [
            "20\n",
            "2020\n"
          ]
        }
      ]
    },
    {
      "cell_type": "code",
      "source": [
        "age=input()\n",
        "age=int(age)\n",
        "print(age+3)"
      ],
      "metadata": {
        "colab": {
          "base_uri": "https://localhost:8080/"
        },
        "id": "dlrkglfNTDfS",
        "outputId": "6a3ea004-d011-4477-fee5-92717a3376d3"
      },
      "execution_count": 7,
      "outputs": [
        {
          "output_type": "stream",
          "name": "stdout",
          "text": [
            "20\n",
            "23\n"
          ]
        }
      ]
    },
    {
      "cell_type": "code",
      "source": [
        "mathanswer=input()\n",
        "mathanswer=float(mathanswer)\n",
        "print(mathanswer+3)"
      ],
      "metadata": {
        "colab": {
          "base_uri": "https://localhost:8080/"
        },
        "id": "opB4cKSBTfQg",
        "outputId": "c723dfa4-a81a-4c53-8a29-ca1b4c0bb7cc"
      },
      "execution_count": 8,
      "outputs": [
        {
          "output_type": "stream",
          "name": "stdout",
          "text": [
            "0.3\n",
            "3.3\n"
          ]
        }
      ]
    },
    {
      "cell_type": "code",
      "source": [
        "mathanswer=input()\n",
        "mathanswer=float(mathanswer)\n",
        "print(mathanswer+3)"
      ],
      "metadata": {
        "colab": {
          "base_uri": "https://localhost:8080/"
        },
        "id": "4BaKh95bT4Fe",
        "outputId": "0f269701-9c38-42ec-e4ea-d8a9d58416b7"
      },
      "execution_count": 9,
      "outputs": [
        {
          "output_type": "stream",
          "name": "stdout",
          "text": [
            "3\n",
            "6.0\n"
          ]
        }
      ]
    },
    {
      "cell_type": "code",
      "source": [],
      "metadata": {
        "id": "jlbyI2woT-uq"
      },
      "execution_count": null,
      "outputs": []
    }
  ]
}